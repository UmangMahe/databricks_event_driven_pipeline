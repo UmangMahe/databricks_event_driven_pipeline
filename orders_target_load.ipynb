{
 "cells": [
  {
   "cell_type": "code",
   "execution_count": 0,
   "metadata": {
    "application/vnd.databricks.v1+cell": {
     "cellMetadata": {
      "byteLimit": 2048000,
      "rowLimit": 10000
     },
     "inputWidgets": {},
     "nuid": "45880f1a-ed7a-46c1-9f4d-b6ed514a3bfb",
     "showTitle": false,
     "tableResultSettingsMap": {},
     "title": ""
    }
   },
   "outputs": [],
   "source": [
    "from delta.tables import *\n",
    "\n",
    "stage_table = \"incremental_load.default.orders_stage\"\n",
    "target_table = \"incremental_load.default.orders_target\""
   ]
  },
  {
   "cell_type": "code",
   "execution_count": 0,
   "metadata": {
    "application/vnd.databricks.v1+cell": {
     "cellMetadata": {},
     "inputWidgets": {},
     "nuid": "b64c7a8d-15ab-4ad9-a6ae-c4eb7adf6db3",
     "showTitle": false,
     "tableResultSettingsMap": {},
     "title": ""
    }
   },
   "outputs": [],
   "source": [
    "stage_df = spark.read.table(stage_table)"
   ]
  },
  {
   "cell_type": "code",
   "execution_count": 0,
   "metadata": {
    "application/vnd.databricks.v1+cell": {
     "cellMetadata": {
      "byteLimit": 2048000,
      "rowLimit": 10000
     },
     "inputWidgets": {},
     "nuid": "09d4f383-4570-4029-9baf-7758dc3c71ae",
     "showTitle": false,
     "tableResultSettingsMap": {},
     "title": ""
    }
   },
   "outputs": [],
   "source": [
    "if not spark._jsparkSession.catalog().tableExists(target_table):\n",
    "    stage_df.write.format(\"delta\").saveAsTable(target_table)\n",
    "\n",
    "else:\n",
    "    target_table = DeltaTable.forName(spark, target_table)\n",
    "    \n",
    "    mergeCondition = \"stage.tracking_num = target.tracking_num\"\n",
    "\n",
    "    target_table.alias(\"target\").merge(\n",
    "            stage_df.alias(\"stage\"),\n",
    "            mergeCondition\n",
    "        )\\\n",
    "        .whenMatchedDelete() \\\n",
    "        .execute()\n",
    "    \n",
    "    stage_df.write.format(\"delta\").mode(\"append\").saveAsTable(target_table)"
   ]
  },
  {
   "cell_type": "code",
   "execution_count": 0,
   "metadata": {
    "application/vnd.databricks.v1+cell": {
     "cellMetadata": {},
     "inputWidgets": {},
     "nuid": "e79e76ad-b6c1-4c08-b60f-dd3665018922",
     "showTitle": false,
     "tableResultSettingsMap": {},
     "title": ""
    }
   },
   "outputs": [],
   "source": []
  }
 ],
 "metadata": {
  "application/vnd.databricks.v1+notebook": {
   "computePreferences": null,
   "dashboards": [],
   "environmentMetadata": {
    "base_environment": "",
    "environment_version": "2"
   },
   "inputWidgetPreferences": null,
   "language": "python",
   "notebookMetadata": {
    "pythonIndentUnit": 4
   },
   "notebookName": "orders_target_load",
   "widgets": {}
  },
  "language_info": {
   "name": "python"
  }
 },
 "nbformat": 4,
 "nbformat_minor": 0
}
